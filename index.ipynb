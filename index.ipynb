{
 "cells": [
  {
   "cell_type": "code",
   "execution_count": 1,
   "id": "1586901b",
   "metadata": {},
   "outputs": [],
   "source": [
    "import sys\n",
    "\n",
    "sys.path.insert(0, '..')"
   ]
  },
  {
   "cell_type": "code",
   "execution_count": null,
   "id": "b0e234b3",
   "metadata": {},
   "outputs": [],
   "source": [
    "from __future__ import annotations\n",
    "import os\n",
    "import math\n",
    "import argparse\n",
    "from dataclasses import dataclass\n",
    "from typing import List, Tuple, Dict\n",
    "\n",
    "import numpy as np\n",
    "from scipy import signal\n",
    "from scipy.fft import fft, fftshift\n",
    "import matplotlib.pyplot as plt\n",
    "import librosa\n",
    "\n",
    "import torch\n",
    "import torch.nn as nn\n",
    "import torch.nn.functional as F\n",
    "from torch.utils.data import Dataset, DataLoader\n",
    "import torchaudio\n",
    "from torchaudio.transforms import MelSpectrogram, AmplitudeToDB, TimeMasking, FrequencyMasking"
   ]
  },
  {
   "cell_type": "code",
   "execution_count": null,
   "id": "5e9d0381",
   "metadata": {},
   "outputs": [],
   "source": [
    "sample_rate = 44100"
   ]
  },
  {
   "cell_type": "code",
   "execution_count": null,
   "id": "d6711e94",
   "metadata": {},
   "outputs": [],
   "source": [
    "def apply_hann_window(frame):\n",
    "    return frame * signal.windows.hann(len(frame))\n",
    "\n",
    "def apply_fft(frame):\n",
    "    return fft(frame)\n",
    "\n",
    "def produce_mfsc(fft_):\n",
    "    mel_filterbank = librosa.filters.mel(sr=sample_rate, )\n",
    "    return np.dot()"
   ]
  },
  {
   "cell_type": "code",
   "execution_count": null,
   "id": "6114781f",
   "metadata": {},
   "outputs": [],
   "source": [
    "# 512 important here for speech processing, ~23ms for our data from Libriparty\n",
    "windowed_signal_length = 512\n",
    "\n",
    "fft_frames = librosa.stft(y, n_fft=windowed_signal_length)"
   ]
  }
 ],
 "metadata": {
  "kernelspec": {
   "display_name": "DSP_ML",
   "language": "python",
   "name": "python3"
  },
  "language_info": {
   "codemirror_mode": {
    "name": "ipython",
    "version": 3
   },
   "file_extension": ".py",
   "mimetype": "text/x-python",
   "name": "python",
   "nbconvert_exporter": "python",
   "pygments_lexer": "ipython3",
   "version": "3.10.18"
  }
 },
 "nbformat": 4,
 "nbformat_minor": 5
}
